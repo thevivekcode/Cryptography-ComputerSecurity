{
 "cells": [
  {
   "cell_type": "code",
   "execution_count": 1,
   "metadata": {},
   "outputs": [],
   "source": [
    "import numpy as np"
   ]
  },
  {
   "cell_type": "code",
   "execution_count": 2,
   "metadata": {},
   "outputs": [],
   "source": [
    "#for char to int where a=0...z=25\n",
    "def charToInt(s):\n",
    "    value=ord(s)-ord('a')\n",
    "    return value\n",
    "\n",
    "#for int to char where 0=a...25=z\n",
    "def intTochar(s):\n",
    "    return chr(s%26 +ord('a'))"
   ]
  },
  {
   "cell_type": "code",
   "execution_count": 3,
   "metadata": {},
   "outputs": [],
   "source": [
    "def keyInput():\n",
    "    print(\"ENTER KEY SIZE 'N' for NXN KEY MATRIX\")\n",
    "    keySize=int(input())\n",
    "    print(\"ENTER THE KEY\")\n",
    "    keyString=input()\n",
    "    if len(keyString) !=keySize**2 :\n",
    "        return \"ERROR IN KEY! CHECK KEY SIZE AGAIN\"\n",
    "    else:\n",
    "        keyList=list(map(charToInt,list(keyString)))\n",
    "        key=np.reshape(np.array(keyList),(keySize,keySize))\n",
    "        return key,keySize"
   ]
  },
  {
   "cell_type": "code",
   "execution_count": 4,
   "metadata": {},
   "outputs": [],
   "source": [
    "def plainText():\n",
    "    print(\"ENTER THE PLAIN TEXT\")\n",
    "    text=input()\n",
    "    return list(map(charToInt,list(text)))"
   ]
  },
  {
   "cell_type": "code",
   "execution_count": 5,
   "metadata": {},
   "outputs": [],
   "source": [
    "# Ax+My = 1 = gcd(A,M) = gcd(M,A%M)\n",
    "x=1\n",
    "y=0\n",
    "cf=0\n",
    "def gcd(A,M):\n",
    "    global x\n",
    "    global y\n",
    "    global cf\n",
    "    if M==0:\n",
    "        x=1\n",
    "        y=0\n",
    "        cf=A\n",
    "    else:\n",
    "        gcd(M,A%M)\n",
    "        temp=x\n",
    "        x=y\n",
    "        y=temp-(A//M)*y\n",
    "#         print(x,y,cf)"
   ]
  },
  {
   "cell_type": "code",
   "execution_count": 6,
   "metadata": {},
   "outputs": [],
   "source": [
    "#takes input key and plaintext in \"int np.array\" format\n",
    "def encryption(K,P):\n",
    "    CT=[np.dot(K,PT) for PT in P]\n",
    "    return list(map(intTochar,list(np.reshape(CT,(1,-1)).flat)))"
   ]
  },
  {
   "cell_type": "code",
   "execution_count": 7,
   "metadata": {},
   "outputs": [],
   "source": [
    "##takes input key and cpherText in\" int np.array\" format\n",
    "def decryption(K,C):\n",
    "    PT=[np.dot(K,CT) for CT in C]\n",
    "    return list(map(intTochar,list(np.reshape(PT,(1,-1)).flat)))"
   ]
  },
  {
   "cell_type": "code",
   "execution_count": 9,
   "metadata": {},
   "outputs": [
    {
     "name": "stdout",
     "output_type": "stream",
     "text": [
      "ENTER KEY SIZE 'N' for NXN KEY MATRIX\n",
      "2\n",
      "ENTER THE KEY\n",
      "abcd\n",
      "2\n",
      "[[0 1]\n",
      " [2 3]]\n",
      "ENTER THE PLAIN TEXT\n",
      "viveksingh\n",
      "[[21  8]\n",
      " [21  4]\n",
      " [10 18]\n",
      " [ 8 13]\n",
      " [ 6  7]]\n",
      "chiptext text is ['i', 'o', 'e', 'c', 's', 'w', 'n', 'd', 'h', 'h'] \n",
      "tatti key\n",
      "det-2.0 \n",
      "[[-1.5  0.5]\n",
      " [ 1.   0. ]]\n",
      "[[ 8 14]\n",
      " [ 4  2]\n",
      " [18 22]\n",
      " [13  3]\n",
      " [ 7  7]]\n",
      "adj [[23  1]\n",
      " [ 2  0]]\n",
      "['q', 'q', 'q', 'i', 'u', 'k', 'q', 'a', 'm', 'o']\n"
     ]
    }
   ],
   "source": [
    "(key,keySize) = keyInput()\n",
    "print(keySize)\n",
    "print(key)\n",
    "plaintext=plainText()\n",
    "plainTextList = np.reshape(plaintext,(-1,keySize))\n",
    "print(plainTextList)\n",
    "cipherText = encryption(key,plainTextList)\n",
    "print(\"chiptext text is {} \".format(cipherText))\n",
    "det=np.round(np.linalg.det(key))\n",
    "\n",
    "gcd(det,26)\n",
    "if(cf!=1):\n",
    "    print(\"tatti key\")\n",
    "    exit()\n",
    "print(\"det{} \".format(det))\n",
    "invKey=np.linalg.inv(key)\n",
    "print(invKey)\n",
    "adj=invKey*det*(x%26) #cf is the modular inverse of det w.r.t 26\n",
    "cipherTextMatrix=np.reshape(np.array(list(map(charToInt,cipherText))),(-1,keySize))\n",
    "print(cipherTextMatrix)\n",
    "# print(adj.astype(int)%26)\n",
    "adj=adj.astype(int)%26\n",
    "print(\"adj {}\".format(adj))\n",
    "plainTextList=decryption(adj,cipherTextMatrix)\n",
    "print(plainTextList)"
   ]
  },
  {
   "cell_type": "code",
   "execution_count": null,
   "metadata": {},
   "outputs": [],
   "source": []
  },
  {
   "cell_type": "code",
   "execution_count": null,
   "metadata": {},
   "outputs": [],
   "source": []
  }
 ],
 "metadata": {
  "kernelspec": {
   "display_name": "Python 3",
   "language": "python",
   "name": "python3"
  },
  "language_info": {
   "codemirror_mode": {
    "name": "ipython",
    "version": 3
   },
   "file_extension": ".py",
   "mimetype": "text/x-python",
   "name": "python",
   "nbconvert_exporter": "python",
   "pygments_lexer": "ipython3",
   "version": "3.6.5"
  }
 },
 "nbformat": 4,
 "nbformat_minor": 2
}
