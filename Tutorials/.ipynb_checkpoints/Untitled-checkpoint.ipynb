{
 "cells": [
  {
   "cell_type": "code",
   "execution_count": 1,
   "metadata": {},
   "outputs": [],
   "source": [
    "import numpy as np\n",
    "def inputKeySize():\n",
    "    print(\"Enter the keySize \\n\")\n",
    "    print(\"cipher text is taken automatically from ./InputFiles/cipherText.txt\")\n",
    "    keySize = int(input())\n",
    "    cipher = open(\"text.txt\",'r')\n",
    "    cipherTextList = list(cipher.read().replace(\"\\n\",\"\").replace(\" \",\"\"))\n",
    "    remainder = len(cipherTextList)%keySize\n",
    "    if remainder !=0:\n",
    "        return keySize, cipherTextList[:-remainder]\n",
    "    else: \n",
    "        return keySize, cipherTextList\n",
    "\n",
    "\n",
    "def ngramGenerator(keySize,cipherTextList):\n",
    "    cipherTextPairs = np.reshape(np.array(cipherTextList),(-1,keySize))\n",
    "    ngram = []\n",
    "    for i in cipherTextPairs:\n",
    "        ngram.append(\"\".join(i))\n",
    "    return ngram\n",
    "def frequency(cipherTextPairs):\n",
    "    freqDict ={}\n",
    "    for i in cipherTextPairs:\n",
    "        if i in freqDict:\n",
    "            freqDict[i]+=1\n",
    "        else:\n",
    "            freqDict[i]=1\n",
    "    return freqDict"
   ]
  },
  {
   "cell_type": "code",
   "execution_count": 2,
   "metadata": {},
   "outputs": [],
   "source": [
    "# keySize, cipherTextList=inputKeySize()\n",
    "# cipherTextPairs=ngramGenerator(keySize,cipherTextList)\n",
    "# frequency(cipherTextPairs)"
   ]
  },
  {
   "cell_type": "code",
   "execution_count": 20,
   "metadata": {},
   "outputs": [
    {
     "name": "stdout",
     "output_type": "stream",
     "text": [
      "['EG', 'HX', 'BY', 'DP', 'AI', 'IK', 'EH', 'XC', 'BX', 'BO', 'IC', 'PB', 'KC', 'DP', 'BS', 'OZ', 'TP', 'FS', 'QT', 'CU', 'OW', 'EG', 'CH', 'MQ', 'LO', 'GC', 'QC', 'PQ', 'AB', 'DC', 'UL', 'BE', 'PH', 'ZX', 'DP', 'TS', 'CE', 'XT', 'TP', 'EG', 'HX', 'OF', 'WG', 'CU', 'IA', 'PD', 'PH', 'LU', 'BM', 'UE', 'PH', 'UL', 'ZR', 'XG', 'HO', 'HD', 'PL', 'XG', 'QI', 'PE', 'DN', 'US', 'PU', 'EZ', 'CL', 'BW', 'IK', 'OE', 'PH', 'DH', 'EH', 'XU', 'MB', 'FS', 'AK', 'YG', 'EB', 'CX', 'HE', 'YB', 'DA', 'EL', 'MS', 'ZR', 'SD', 'GQ', 'AE', 'EI', 'BO', 'CE', 'CG', 'WN', 'CB', 'DQ', 'BY', 'WG', 'PH', 'UH', 'HU', 'DE', 'PH', 'YB', 'TM', 'UL', 'OB', 'HV', 'KM', 'BQ', 'IC', 'AL', 'DM', 'CU', 'ET', 'NL', 'BM', 'LM', 'AC', 'RT', 'IK', 'EP', 'US', 'UE', 'IK', 'OE', 'LA', 'AC', 'PL', 'EI', 'UP', 'TP', 'UX', 'DP', 'MU', 'KO', 'CU', 'XH', 'SQ', 'SD', 'XT', 'PD', 'BU', 'DN', 'OU', 'EC', 'UE', 'SI', 'FQ', 'BO', 'ST', 'HE', 'LM', 'US', 'EW', 'DN', 'OU', 'EC', 'UE', 'CI', 'LO', 'QA', 'OL', 'ZK', 'SF', 'OK', 'BO', 'UB', 'DR', 'ES']\n",
      "\n",
      "\n",
      "\n",
      "EGHXBYDPAIIKEHXCBXBOICPBKCDPBSOZTPFSQTCUOWEGCHMQLOGCQCPQABDCULBEPHZXDPTSCEXTTPEGHXOFWGCUIAPDPHLUBMUEPHULZRXGHOHDPLXGQIPEDNUSPUEZCLBWIKOEPHDHEHXUMBFSAKYGEBCXHEYBDAELMSZRSDGQAEEIBOCECGWNCBDQBYWGPHUHHUDEPHYBTMULOBHVKMBQICALDMCUETNLBMLMACRTIKEPUSUEIKOELAACPLEIUPTPUXDPMUKOCUXHSQSDXTPDBUDNOUECUESIFQBOSTHELMUSEWDNOUECUECILOQAOLZKSFOKBOUBDRES\n",
      "\n",
      "\n",
      "\n",
      " th HXBY er AIIKEHXCBXBOICPBKC er BSOZ en FSQTCUOW th CHMQLOGCQCPQABDCULBE he ZX er TSCEXT en  th HXOFWGCUIAPD he LU an UE he ULZRXGHOHDPLXGQIPEDNUSPUEZCLBWIKOE he DHEHXUMBFSAKYGEBCXHEYBDAELMSZRSD in AEEIBOCECGWNCBDQBYWG he UHHUDE he YBTMULOBHVKMBQICALDMCUETNL an LMACRTIKEPUSUEIKOELAACPLEIUP en UX er MUKOCUXHSQSDXTPDBUDNOUECUESIFQBOSTHELMUSEWDNOUECUECILOQAOLZKSFOKBOUBDRES\n",
      "\n",
      "\n",
      "\n",
      "THEPOWEROFHISEYESWASCONSIDERABLYENHANCEDBYTHEIRPOSITIONPLACEDASTHEYWEREB ETWEENTHEPAINTEDFOREHEADANDTHEDARKWHISKERSWHICHSTREAMEDXDOWNHISCHEEKSEVE NAHALFWITSEYESWOULDSPARKLEINSUCHASETTINGTOCROWNTHEEFFECTHEWOUNDASAFXFRON COLOUREDTURBANAROUNDHISHEADTHISCOLOURSCHEMENEVERFAILEDPEOPLEWEREATTRACTE DTOHIMASBEESAREATXTRACTEDTOCOSMOSORDAHLIASTALKSX\n"
     ]
    }
   ],
   "source": [
    "\n",
    "cipher = open(\"text.txt\",'r')\n",
    "cipherTextList = list(cipher.read().replace(\"\\n\",\"\"))\n",
    "\n",
    "def ngramGenerator(keySize,cipherTextList):\n",
    "    cipherTextPairs = np.reshape(np.array(cipherTextList),(-1,keySize))\n",
    "    ngram = []\n",
    "    for i in cipherTextPairs:\n",
    "        ngram.append(\"\".join(i))\n",
    "    return ngram\n",
    "\n",
    "\n",
    "\n",
    "bigramss=ngramGenerator(2,cipherTextList)\n",
    "\n",
    "\n",
    "print(bigramss)\n",
    "print(\"\\n\\n\")\n",
    "print(\"\".join(cipherTextList))\n",
    "print(\"\\n\\n\")\n",
    "\n",
    "mappping =dict()\n",
    "\n",
    "mappping[\"EG\"] = ' th '\n",
    "mappping[\"PH\"] = ' he '\n",
    "mappping[\"GQ\"] = ' in '\n",
    "mappping[\"DP\"] = ' er '\n",
    "mappping[\"BM\"] = ' an '\n",
    "\n",
    "mappping[\"TP\"] = ' en '\n",
    "mappping[\"BM\"] = ' an '\n",
    "mappping[\"UE\"] = ' dt '\n",
    "\n",
    "# Reverse -----\n",
    "# mappping[\"TH\"] = ' eg '\n",
    "# mappping[\"HE\"] = ' ph '\n",
    "# mappping[\"IN\"] = ' gq '\n",
    "# mappping[\"ER\"] = ' dp '\n",
    "# mappping[\"AN\"] = ' bm '\n",
    "\n",
    "# mappping[\"EN\"] = ' tp '\n",
    "\n",
    "# mappping[\"DT\"] = '  '\n",
    "\n",
    "\n",
    "\n",
    "\n",
    "\n",
    "\n",
    "\n",
    "\n",
    "for index,ele in enumerate(bigramss):\n",
    "    if ele in mappping:\n",
    "        bigramss[index] = mappping[ele]\n",
    "\n",
    "print(\"\".join(bigramss))\n",
    "print(\"\\n\\n\")\n",
    "print(\"THEPOWEROFHISEYESWASCONSIDERABLYENHANCEDBYTHEIRPOSITIONPLACEDASTHEYWEREB ETWEENTHEPAINTEDFOREHEADANDTHEDARKWHISKERSWHICHSTREAMEDXDOWNHISCHEEKSEVE NAHALFWITSEYESWOULDSPARKLEINSUCHASETTINGTOCROWNTHEEFFECTHEWOUNDASAFXFRON COLOUREDTURBANAROUNDHISHEADTHISCOLOURSCHEMENEVERFAILEDPEOPLEWEREATTRACTE DTOHIMASBEESAREATXTRACTEDTOCOSMOSORDAHLIASTALKSX\")\n",
    "\n"
   ]
  },
  {
   "cell_type": "code",
   "execution_count": null,
   "metadata": {},
   "outputs": [],
   "source": []
  },
  {
   "cell_type": "code",
   "execution_count": null,
   "metadata": {},
   "outputs": [],
   "source": []
  }
 ],
 "metadata": {
  "kernelspec": {
   "display_name": "Python 3",
   "language": "python",
   "name": "python3"
  },
  "language_info": {
   "codemirror_mode": {
    "name": "ipython",
    "version": 3
   },
   "file_extension": ".py",
   "mimetype": "text/x-python",
   "name": "python",
   "nbconvert_exporter": "python",
   "pygments_lexer": "ipython3",
   "version": "3.6.5"
  }
 },
 "nbformat": 4,
 "nbformat_minor": 2
}
