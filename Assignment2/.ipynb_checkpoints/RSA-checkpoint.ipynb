{
 "cells": [
  {
   "cell_type": "markdown",
   "metadata": {},
   "source": [
    "# RSA Encryption and Decryption"
   ]
  },
  {
   "cell_type": "code",
   "execution_count": 19,
   "metadata": {},
   "outputs": [],
   "source": [
    "import math\n",
    "import numpy as np"
   ]
  },
  {
   "cell_type": "code",
   "execution_count": 61,
   "metadata": {},
   "outputs": [],
   "source": [
    "def chatToint(c):\n",
    "    if c >='0' and c<='9':\n",
    "        return (ord(c) - 21)\n",
    "    else:\n",
    "        return ord(c) - ord('a')\n",
    "\n",
    "def intTochar(i):\n",
    "    if i >= 27:\n",
    "        return chr(i+21)\n",
    "    else:\n",
    "        return chr(i+97)\n"
   ]
  },
  {
   "cell_type": "code",
   "execution_count": 62,
   "metadata": {},
   "outputs": [],
   "source": [
    "def calVal(l,x):\n",
    "    newl = l[::-1]\n",
    "    val = 0\n",
    "    for i in range(len(newl)):\n",
    "        val += newl[i]*pow(x,i)\n",
    "    return val\n",
    "\n",
    "def calList(Cval,x,blockSize):\n",
    "    val = Cval\n",
    "    l = []\n",
    "    for i in range(blockSize,-1,-1):\n",
    "        q = val//(pow(x,i))\n",
    "        val = val%(pow(x,i))\n",
    "        l.append(q)\n",
    "    return l[::-1]\n",
    "        "
   ]
  },
  {
   "cell_type": "code",
   "execution_count": 63,
   "metadata": {},
   "outputs": [],
   "source": [
    "def RSA_encryption(M,e,N):\n",
    "    '''\n",
    "    M = message\n",
    "    e = encryption Key\n",
    "    N = p*q\n",
    "    '''\n",
    "    blockSize = int(math.log(N,37))\n",
    "\n",
    "    messagelist = list(map(chatToint,list(M)))\n",
    "    messageBlocks = [messagelist[i*blockSize:(i+1)*blockSize] for i in range((len(messagelist)+blockSize-1)//blockSize)]\n",
    "    cipherText =\"\"\n",
    "    if len(messageBlocks[-1])!= blockSize:\n",
    "        for i in range(blockSize-len(messageBlocks[-1])):\n",
    "            messageBlocks[-1].append(chatToint('{'))\n",
    "\n",
    "    for i in messageBlocks:\n",
    "        val = calVal(i,37)\n",
    "        Cval = pow(val,e,N)\n",
    "        i_new = calList(Cval,37,blockSize)\n",
    "\n",
    "        cipherText = cipherText + str(\"\".join(list(map(intTochar,i_new))))\n",
    "    return cipherText\n",
    "        "
   ]
  },
  {
   "cell_type": "code",
   "execution_count": 64,
   "metadata": {},
   "outputs": [],
   "source": [
    "def RSA_decryption(M,d,N):\n",
    "      '''\n",
    "    M = message\n",
    "    d = decryption Key\n",
    "    N = p*q\n",
    "    '''\n",
    "    blockSize = int(math.log(N,37))+1\n",
    "    messagelist = list(map(chatToint,list(M)))\n",
    "    messageBlocks = [messagelist[i*blockSize:(i+1)*blockSize] for i in range((len(messagelist)+blockSize-1)//blockSize)]\n",
    "    plainText =\"\"\n",
    "    for i in messageBlocks:\n",
    "        val = calVal(i[::-1],37)\n",
    "        Cval = pow(val,d,N)\n",
    "        i_new = calList(Cval,37,blockSize-2)\n",
    "        plainText = plainText + str(\"\".join(list(map(intTochar,i_new))[::-1]))\n",
    "    return plainText"
   ]
  },
  {
   "cell_type": "code",
   "execution_count": 70,
   "metadata": {},
   "outputs": [
    {
     "data": {
      "text/plain": [
       "'kvf3vop6c3fiqrk4ac4qmowfrvqowbf7dh6jd4a'"
      ]
     },
     "execution_count": 70,
     "metadata": {},
     "output_type": "execute_result"
    }
   ],
   "source": [
    "ct=RSA_encryption(\"mynameisviveksinghandi1997\",3,28471)\n",
    "ct"
   ]
  },
  {
   "cell_type": "code",
   "execution_count": 69,
   "metadata": {},
   "outputs": [
    {
     "data": {
      "text/plain": [
       "'mynameisviveksinghandi1997'"
      ]
     },
     "execution_count": 69,
     "metadata": {},
     "output_type": "execute_result"
    }
   ],
   "source": [
    "pt =RSA_decryption('kvf3vop6c3fiqrk4ac4qmowfrvqowbf7dh6jd4a',18667,28471)\n",
    "pt"
   ]
  }
 ],
 "metadata": {
  "kernelspec": {
   "display_name": "Python 3",
   "language": "python",
   "name": "python3"
  },
  "language_info": {
   "codemirror_mode": {
    "name": "ipython",
    "version": 3
   },
   "file_extension": ".py",
   "mimetype": "text/x-python",
   "name": "python",
   "nbconvert_exporter": "python",
   "pygments_lexer": "ipython3",
   "version": "3.6.5"
  }
 },
 "nbformat": 4,
 "nbformat_minor": 2
}
