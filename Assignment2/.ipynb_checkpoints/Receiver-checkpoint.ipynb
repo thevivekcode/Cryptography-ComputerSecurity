{
 "cells": [
  {
   "cell_type": "code",
   "execution_count": 59,
   "metadata": {},
   "outputs": [
    {
     "name": "stdout",
     "output_type": "stream",
     "text": [
      "Assignment 2.pdf               Receiver.ipynb  sender.ipynb   vignere.py\r\n",
      "Certification Authority.ipynb  Receiver.py     sender.py\r\n",
      "Certification Authority.py     RSA.ipynb       vignere.ipynb\r\n",
      "plainText                      RSA.py          vignereKey\r\n"
     ]
    }
   ],
   "source": [
    "ls"
   ]
  },
  {
   "cell_type": "code",
   "execution_count": 56,
   "metadata": {},
   "outputs": [],
   "source": [
    "import RSA\n",
    "import vignere\n",
    "import CertificationAuthority"
   ]
  },
  {
   "cell_type": "code",
   "execution_count": 57,
   "metadata": {},
   "outputs": [],
   "source": [
    " def getCApublicKey():\n",
    "    with open(\"CA_public_key\",'r') as f:\n",
    "        CA = f.read()\n",
    "\n",
    "    CA = CA.split()\n",
    "    e_CA = CA[2]\n",
    "    n_CA = CA[3]\n",
    "    return e_CA,n_CA\n",
    "\n",
    "def getPrivateKey():\n",
    "    with open(\"receiver_private_key\",'r') as f:\n",
    "        s1 = f.read()\n",
    "    s1 = s1.split()\n",
    "    d_S1 = s1[2]\n",
    "    n_S1 = s1[3]\n",
    "    return d_S1,n_S1\n",
    "\n",
    "def get_S2_PublicKey(e_CA,n_CA):\n",
    "    with open(\"public_directory\",'r') as f:\n",
    "        sender_public_keys = f.read().split()\n",
    "        e_S2 = RSA.RSA_decryption(sender_public_keys[6],int(e_CA),int(n_CA)).replace('{',\"\")\n",
    "        n_S2 = RSA.RSA_decryption(sender_public_keys[7],int(e_CA),int(n_CA)).replace('{',\"\")\n",
    "        return e_S2,n_S2"
   ]
  },
  {
   "cell_type": "code",
   "execution_count": 58,
   "metadata": {},
   "outputs": [
    {
     "name": "stdout",
     "output_type": "stream",
     "text": [
      "helloworld\n"
     ]
    }
   ],
   "source": [
    "if __name__ == \"__main__\":\n",
    "    (d_S1,n_S1) = getPrivateKey()\n",
    "    (e_CA,n_CA) = getCApublicKey()\n",
    "    (e_S2,n_S2) = get_S2_PublicKey(e_CA,n_CA)\n",
    "    \n",
    "    #-------------------RECEIVING MESSAGE---------------------\n",
    "    \n",
    "    with open(\"sender_TO_receiver\",'r') as f:\n",
    "        cipherText = f.read()\n",
    "\n",
    "    CT1 = RSA.RSA_decryption(cipherText,int(d_S1),int(n_S1))\n",
    "    CT1 = list(CT1)\n",
    "\n",
    "    for i in range(len(CT1)-1,-1,-1):\n",
    "        if CT1[i]!='{':\n",
    "            break\n",
    "        else:\n",
    "            del CT1[i]\n",
    "            \n",
    "    CT1 = \"\".join(CT1)\n",
    "    CT2 = RSA.RSA_decryption(CT1,int(e_S2),int(n_S2))\n",
    "\n",
    "    CT2 = CT2.replace(\"{\",\"\")\n",
    "    \n",
    "    CT3 = list(CT2)\n",
    "    Vkey_len = int(\"\".join(CT3[:2]))\n",
    "    Vkey = \"\".join(CT3[2:2+Vkey_len])\n",
    "    finalCT = \"\".join(CT3[2+Vkey_len:])\n",
    "    PT  = vignere.VigenereDecryption(Vkey,finalCT)\n",
    "    \n",
    "    print(PT)\n",
    "    #----------------------------------------------------------\n",
    "    "
   ]
  },
  {
   "cell_type": "code",
   "execution_count": null,
   "metadata": {},
   "outputs": [],
   "source": []
  },
  {
   "cell_type": "code",
   "execution_count": null,
   "metadata": {},
   "outputs": [],
   "source": []
  }
 ],
 "metadata": {
  "kernelspec": {
   "display_name": "Python 3",
   "language": "python",
   "name": "python3"
  },
  "language_info": {
   "codemirror_mode": {
    "name": "ipython",
    "version": 3
   },
   "file_extension": ".py",
   "mimetype": "text/x-python",
   "name": "python",
   "nbconvert_exporter": "python",
   "pygments_lexer": "ipython3",
   "version": "3.6.5"
  }
 },
 "nbformat": 4,
 "nbformat_minor": 2
}
