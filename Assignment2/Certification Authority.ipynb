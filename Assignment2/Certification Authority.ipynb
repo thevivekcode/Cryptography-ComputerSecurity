{
 "cells": [
  {
   "cell_type": "markdown",
   "metadata": {},
   "source": [
    "# Certification Authority"
   ]
  },
  {
   "cell_type": "code",
   "execution_count": 1,
   "metadata": {},
   "outputs": [],
   "source": [
    "import gmpy2\n",
    "import random\n",
    "import RSA"
   ]
  },
  {
   "cell_type": "code",
   "execution_count": 2,
   "metadata": {},
   "outputs": [],
   "source": [
    "\n",
    "def generate_prime(state,bit_count):\n",
    "    rand_state = gmpy2.random_state(state)\n",
    "    temp = gmpy2.mpz_rrandomb(rand_state, bit_count)\n",
    "    return gmpy2.next_prime(temp)"
   ]
  },
  {
   "cell_type": "code",
   "execution_count": 3,
   "metadata": {},
   "outputs": [],
   "source": [
    "def generate_strongPrime(bit_count):\n",
    "    primeSet = set()\n",
    "    while(len(primeSet)<10):\n",
    "        state = random.randrange(10,80)\n",
    "        p1 = generate_prime(state,bit_count)\n",
    "        p2 = gmpy2.next_prime(p1)\n",
    "        p3 = gmpy2.next_prime(p2)\n",
    "        if (p1 + p3)/2 < p2: #p2 is strong prime\n",
    "            primeSet.add(p2)\n",
    "    return list(primeSet)\n",
    "    "
   ]
  },
  {
   "cell_type": "code",
   "execution_count": 4,
   "metadata": {},
   "outputs": [],
   "source": [
    "def generateKey(p,q):\n",
    "    n = p*q\n",
    "    phiN = (p-1)*(q-1)\n",
    "    state = random.randrange(10,80)\n",
    "    \n",
    "    e = generate_prime(state,10) # taking e to be small 10 bit number\n",
    "    while gmpy2.gcd(e,phiN)!=1:\n",
    "        e+=2\n",
    "        \n",
    "    d = gmpy2.invert(e,phiN)\n",
    "    return e,d,n\n",
    "    \n",
    "    "
   ]
  },
  {
   "cell_type": "code",
   "execution_count": 5,
   "metadata": {},
   "outputs": [],
   "source": [
    "def generateCAKey(primeList):\n",
    "    p = primeList[0]\n",
    "    q = primeList[1]\n",
    "    (e_CA,d_CA,n_CA) = generateKey(p,q)\n",
    "    return e_CA,d_CA,n_CA\n",
    "    "
   ]
  },
  {
   "cell_type": "code",
   "execution_count": 6,
   "metadata": {},
   "outputs": [],
   "source": [
    "def generate_Sender_1_Key(primeList):\n",
    "    p = primeList[2]\n",
    "    q = primeList[3]\n",
    "    (e_S1,d_S1,n_S1) = generateKey(p,q)\n",
    "    return e_S1,d_S1,n_S1"
   ]
  },
  {
   "cell_type": "code",
   "execution_count": 7,
   "metadata": {},
   "outputs": [],
   "source": [
    "def generate_Sender_2_Key(primeList):\n",
    "    p = primeList[4]\n",
    "    q = primeList[5]\n",
    "    (e_S2,d_S2,n_S2) = generateKey(p,q)\n",
    "    return e_S2,d_S2,n_S2"
   ]
  },
  {
   "cell_type": "code",
   "execution_count": 8,
   "metadata": {},
   "outputs": [],
   "source": [
    "if __name__ == \"__main__\":\n",
    "    primeList = generate_strongPrime(512)\n",
    "    (e_CA,d_CA,n_CA) = generateCAKey(primeList)\n",
    "    (e_S1,d_S1,n_S1) = generate_Sender_1_Key(primeList)\n",
    "    (e_S2,d_S2,n_S2) = generate_Sender_2_Key(primeList)\n",
    "    \n",
    "\n",
    "    with open('CA_public_key','w') as f:\n",
    "        str1 = \"CA_public_Key : \"+ str(e_CA)+\" \"+str(n_CA)+\"\\n\"\n",
    "        f.write(str1)\n",
    "    # encrypting the public keys of the senders\n",
    "\n",
    "    e_S1E =  RSA.RSA_encryption(str(e_S1),d_CA,n_CA)\n",
    "    n_S1E =  RSA.RSA_encryption(str(n_S1),d_CA,n_CA)\n",
    "    e_S2E =  RSA.RSA_encryption(str(e_S2),d_CA,n_CA)\n",
    "    n_S2E =  RSA.RSA_encryption(str(n_S2),d_CA,n_CA)\n",
    "    \n",
    "    with open('public_directory','w') as f:\n",
    "        str2 = \"S1_public_Key : \"+str(e_S1E)+\" \"+str(n_S1E)+\"\\n\"\n",
    "        str3 = \"S2_public_Key : \"+str(e_S2E)+\" \"+str(n_S2E)+\"\\n\"\n",
    "        f.write(str2)        \n",
    "        f.write(str3)  \n",
    "        \n",
    "    # encrypting the private keys of the senders\n",
    "    with open('receiver_private_key','w') as f:\n",
    "        str4 = \"S1_private_Key : \"+str(d_S1)+\" \"+str(n_S1)+\"\\n\"\n",
    "        f.write(str4)\n",
    "        \n",
    "    with open('sender_private_key','w') as f:\n",
    "        str5 = \"S2_private_Key : \"+str(d_S2)+\" \"+str(n_S2)+\"\\n\"\n",
    "        f.write(str5)\n",
    "    "
   ]
  },
  {
   "cell_type": "code",
   "execution_count": null,
   "metadata": {},
   "outputs": [],
   "source": []
  }
 ],
 "metadata": {
  "kernelspec": {
   "display_name": "Python 3",
   "language": "python",
   "name": "python3"
  },
  "language_info": {
   "codemirror_mode": {
    "name": "ipython",
    "version": 3
   },
   "file_extension": ".py",
   "mimetype": "text/x-python",
   "name": "python",
   "nbconvert_exporter": "python",
   "pygments_lexer": "ipython3",
   "version": "3.6.5"
  }
 },
 "nbformat": 4,
 "nbformat_minor": 2
}
