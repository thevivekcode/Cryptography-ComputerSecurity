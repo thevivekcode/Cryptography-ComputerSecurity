{
 "cells": [
  {
   "cell_type": "code",
   "execution_count": 1,
   "metadata": {},
   "outputs": [],
   "source": [
    "import RSA\n",
    "import vignere\n",
    "import CertificationAuthority"
   ]
  },
  {
   "cell_type": "code",
   "execution_count": 2,
   "metadata": {},
   "outputs": [],
   "source": [
    " def getCApublicKey():\n",
    "    with open(\"CA_public_key\",'r') as f:\n",
    "        CA = f.read()\n",
    "\n",
    "    CA = CA.split()\n",
    "    e_CA = CA[2]\n",
    "    n_CA = CA[3]\n",
    "    return e_CA,n_CA\n",
    "\n",
    "def getPrivateKey():\n",
    "    with open(\"sender_private_key\",'r') as f:\n",
    "        s2 = f.read()\n",
    "    s2 = s2.split()\n",
    "    d_S2 = s2[2]\n",
    "    n_S2 = s2[3]\n",
    "    return d_S2,n_S2\n",
    "\n",
    "def get_S1_PublicKey(e_CA,n_CA):\n",
    "    with open(\"public_directory\",'r') as f:\n",
    "        sender_public_keys = f.read().split()\n",
    "        e_S1 = RSA.RSA_decryption(sender_public_keys[2],int(e_CA),int(n_CA)).replace('{',\"\")\n",
    "        n_S1 = RSA.RSA_decryption(sender_public_keys[3],int(e_CA),int(n_CA)).replace('{',\"\")\n",
    "        return e_S1,n_S1"
   ]
  },
  {
   "cell_type": "code",
   "execution_count": 3,
   "metadata": {},
   "outputs": [],
   "source": [
    "if __name__ == \"__main__\":\n",
    "    (d_S2,n_S2) = getPrivateKey()\n",
    "    (e_CA,n_CA) = getCApublicKey()\n",
    "    (e_S1,n_S1) = get_S1_PublicKey(e_CA,n_CA)\n",
    "    with open('plainText','r') as f:\n",
    "        pt = f.read().lower()\n",
    "    pt = list(pt)\n",
    "    text = \"\".join([i for i in pt if (i>='a' and i<='{') or i >='0' and i<= '9' ])\n",
    "    with open('vignereKey','r') as f:\n",
    "        Vkey = f.read()\n",
    "    \n",
    "    \n",
    "    CT = vignere.VigenereEncryption(Vkey,text)\n",
    "    if len(Vkey) <=9:\n",
    "        cipherText = '0'+str(len(Vkey))+Vkey+CT\n",
    "    \n",
    "    else:\n",
    "        cipherText = str(len(Vkey))+Vkey+CT\n",
    "        \n",
    "\n",
    "    DS = RSA.RSA_encryption(cipherText,int(d_S2),int(n_S2))\n",
    "    \n",
    "\n",
    "    finalCipherText = RSA.RSA_encryption(DS,int(e_S1),int(n_S1))\n",
    "    \n",
    "\n",
    "    with open(\"sender_TO_receiver\",'w') as f:\n",
    "        f.write(finalCipherText)"
   ]
  },
  {
   "cell_type": "code",
   "execution_count": null,
   "metadata": {},
   "outputs": [],
   "source": []
  }
 ],
 "metadata": {
  "kernelspec": {
   "display_name": "Python 3",
   "language": "python",
   "name": "python3"
  },
  "language_info": {
   "codemirror_mode": {
    "name": "ipython",
    "version": 3
   },
   "file_extension": ".py",
   "mimetype": "text/x-python",
   "name": "python",
   "nbconvert_exporter": "python",
   "pygments_lexer": "ipython3",
   "version": "3.6.5"
  }
 },
 "nbformat": 4,
 "nbformat_minor": 2
}
