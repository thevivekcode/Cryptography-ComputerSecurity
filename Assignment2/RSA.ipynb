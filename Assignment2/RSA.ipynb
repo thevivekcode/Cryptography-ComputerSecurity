{
 "cells": [
  {
   "cell_type": "markdown",
   "metadata": {},
   "source": [
    "# RSA Encryption and Decryption"
   ]
  },
  {
   "cell_type": "code",
   "execution_count": 2,
   "metadata": {},
   "outputs": [],
   "source": [
    "import math\n",
    "import numpy as np"
   ]
  },
  {
   "cell_type": "code",
   "execution_count": 3,
   "metadata": {},
   "outputs": [],
   "source": [
    "def chatToint(c):\n",
    "    if c >='0' and c<='9':\n",
    "        return (ord(c) - 21)\n",
    "    else:\n",
    "        return ord(c) - ord('a')\n",
    "\n",
    "def intTochar(i):\n",
    "    if i >= 27:\n",
    "        return chr(i+21)\n",
    "    else:\n",
    "        return chr(i+97)\n"
   ]
  },
  {
   "cell_type": "code",
   "execution_count": 4,
   "metadata": {},
   "outputs": [],
   "source": [
    "def calVal(l,x):\n",
    "    newl = l[::-1]\n",
    "    val = 0\n",
    "    for i in range(len(newl)):\n",
    "        val += newl[i]*pow(x,i)\n",
    "    return val\n",
    "\n",
    "def calList(Cval,x,blockSize):\n",
    "    val = Cval\n",
    "    l = []\n",
    "    for i in range(blockSize,-1,-1):\n",
    "        q = val//(pow(x,i))\n",
    "        val = val%(pow(x,i))\n",
    "        l.append(q)\n",
    "    return l[::-1]\n",
    "        "
   ]
  },
  {
   "cell_type": "code",
   "execution_count": 5,
   "metadata": {},
   "outputs": [],
   "source": [
    "def RSA_encryption(M,e,N):\n",
    "    '''\n",
    "    M = message\n",
    "    e = encryption Key\n",
    "    N = p*q\n",
    "    '''\n",
    "    blockSize = int(math.log(N,37))\n",
    "    messagelist = list(map(chatToint,list(M)))\n",
    "    messageBlocks = [messagelist[i*blockSize:(i+1)*blockSize] for i in range((len(messagelist)+blockSize-1)//blockSize)]\n",
    "    cipherText =\"\"\n",
    "    if len(messageBlocks[-1])!= blockSize:\n",
    "        for i in range(blockSize-len(messageBlocks[-1])):\n",
    "            messageBlocks[-1].append(chatToint('{'))\n",
    "    \n",
    "    for i in messageBlocks:\n",
    "        val = calVal(i,37)\n",
    "        Cval = pow(val,e,N)\n",
    "        i_new = calList(Cval,37,blockSize)\n",
    "\n",
    "        cipherText = cipherText + str(\"\".join(list(map(intTochar,i_new))))\n",
    "    return cipherText\n",
    "        "
   ]
  },
  {
   "cell_type": "code",
   "execution_count": 6,
   "metadata": {},
   "outputs": [],
   "source": [
    "def RSA_decryption(M,d,N):\n",
    "    '''\n",
    "    M = message\n",
    "    d = decryption Key\n",
    "    N = p*q\n",
    "    '''\n",
    "    blockSize = int(math.log(N,37))+1\n",
    "    messagelist = list(map(chatToint,list(M)))\n",
    "    messageBlocks = [messagelist[i*blockSize:(i+1)*blockSize] for i in range((len(messagelist)+blockSize-1)//blockSize)]\n",
    "    plainText =\"\"\n",
    "    for i in messageBlocks:\n",
    "        val = calVal(i[::-1],37)\n",
    "        Cval = pow(val,d,N)\n",
    "        i_new = calList(Cval,37,blockSize-2)\n",
    "        plainText = plainText + str(\"\".join(list(map(intTochar,i_new))[::-1]))\n",
    "    return plainText"
   ]
  },
  {
   "cell_type": "code",
   "execution_count": 10,
   "metadata": {},
   "outputs": [
    {
     "data": {
      "text/plain": [
       "'h298ymcq36bo11w5fspdc0qo5yk0i2nmsa2hek0fsve9wahp1812p8mffd9i2a4nfbkrwug936qne9hlpew{110b0bpieomg332{nbwveyvpk3k{x42fbv9gb6xe7ubl5bos{vs{xvhicwe4lgksqua80dc0oenz{sjur21quzc45mlxuwld27moft7ov604e4cjb'"
      ]
     },
     "execution_count": 10,
     "metadata": {},
     "output_type": "execute_result"
    }
   ],
   "source": [
    "ct=RSA_encryption(\"887\",37725312136709184195049287762908365760231268718679791216139524330546090725606953942082983379702311391293454555082500430895548947835142174428243530152529394385326535956880198554284711098196519311600099159112173085447491516387208323932045444774197551468764601489367495808319705653812661129099554962300310907273,44942328371557897693232629769725618340449424473557664318357520289433168951375240783177119330601884005280028469967848339414697442203604155623211857659969813675544759734706553503912001861958502659272025677596575225355411876068791294231239636083559597783608128327887290188136068315381373465584198866998072136563)\n",
    "ct"
   ]
  },
  {
   "cell_type": "code",
   "execution_count": 11,
   "metadata": {},
   "outputs": [
    {
     "data": {
      "text/plain": [
       "'887{{{{{{{{{{{{{{{{{{{{{{{{{{{{{{{{{{{{{{{{{{{{{{{{{{{{{{{{{{{{{{{{{{{{{{{{{{{{{{{{{{{{{{{{{{{{{{{{{{{{{{{{{{{{{{{{{{{{{{{{{{{{{{{{{{{{{{{{{{{{{{{{{{{{{{{{{{{{{{{{{{{{{{{{{{{{{{{{{{{{{{{{{{{{{{{{{'"
      ]
     },
     "execution_count": 11,
     "metadata": {},
     "output_type": "execute_result"
    }
   ],
   "source": [
    "pt =RSA_decryption('h298ymcq36bo11w5fspdc0qo5yk0i2nmsa2hek0fsve9wahp1812p8mffd9i2a4nfbkrwug936qne9hlpew{110b0bpieomg332{nbwveyvpk3k{x42fbv9gb6xe7ubl5bos{vs{xvhicwe4lgksqua80dc0oenz{sjur21quzc45mlxuwld27moft7ov604e4cjb',137,44942328371557897693232629769725618340449424473557664318357520289433168951375240783177119330601884005280028469967848339414697442203604155623211857659969813675544759734706553503912001861958502659272025677596575225355411876068791294231239636083559597783608128327887290188136068315381373465584198866998072136563)\n",
    "pt"
   ]
  },
  {
   "cell_type": "code",
   "execution_count": 8,
   "metadata": {},
   "outputs": [
    {
     "data": {
      "text/plain": [
       "48"
      ]
     },
     "execution_count": 8,
     "metadata": {},
     "output_type": "execute_result"
    }
   ],
   "source": [
    "ord('0')"
   ]
  },
  {
   "cell_type": "code",
   "execution_count": 9,
   "metadata": {},
   "outputs": [
    {
     "data": {
      "text/plain": [
       "27"
      ]
     },
     "execution_count": 9,
     "metadata": {},
     "output_type": "execute_result"
    }
   ],
   "source": [
    "48-21"
   ]
  },
  {
   "cell_type": "code",
   "execution_count": null,
   "metadata": {},
   "outputs": [],
   "source": []
  }
 ],
 "metadata": {
  "kernelspec": {
   "display_name": "Python 3",
   "language": "python",
   "name": "python3"
  },
  "language_info": {
   "codemirror_mode": {
    "name": "ipython",
    "version": 3
   },
   "file_extension": ".py",
   "mimetype": "text/x-python",
   "name": "python",
   "nbconvert_exporter": "python",
   "pygments_lexer": "ipython3",
   "version": "3.6.5"
  }
 },
 "nbformat": 4,
 "nbformat_minor": 2
}
