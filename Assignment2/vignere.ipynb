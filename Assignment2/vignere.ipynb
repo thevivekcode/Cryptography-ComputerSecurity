{
 "cells": [
  {
   "cell_type": "code",
   "execution_count": 1,
   "metadata": {},
   "outputs": [],
   "source": [
    "import numpy as np"
   ]
  },
  {
   "cell_type": "code",
   "execution_count": 2,
   "metadata": {},
   "outputs": [],
   "source": [
    "def chatToint(c):\n",
    "    return ord(c) - ord('a')\n",
    "\n",
    "def intTochar(i):\n",
    "    return chr(i+97)\n"
   ]
  },
  {
   "cell_type": "code",
   "execution_count": 3,
   "metadata": {},
   "outputs": [],
   "source": [
    "def VigenereEncryption(key,plainText):\n",
    "    key = list(map(chatToint,list(key)))\n",
    "    plainText = list(map(chatToint,list(plainText.lower())))\n",
    "    keySize  =len(key)\n",
    "    textSize = len(plainText)\n",
    "    q = textSize//keySize\n",
    "    r = textSize%keySize\n",
    "    finalKey = key*q + key[:r]\n",
    "    return \"\".join(list(map(intTochar,np.mod(np.array(finalKey) + np.array(plainText),26))))\n",
    "\n",
    "def VigenereDecryption(key,cipherText):\n",
    "    key = list(map(chatToint,list(key)))\n",
    "    cipherText = list(map(chatToint,list(cipherText.lower())))\n",
    "    keySize  =len(key)\n",
    "    textSize = len(cipherText)\n",
    "    q = textSize//keySize\n",
    "    r = textSize%keySize\n",
    "    finalKey = key*q + key[:r]\n",
    "    return \"\".join(list(map(intTochar,np.mod(np.array(cipherText) - np.array(finalKey) ,26))))\n"
   ]
  },
  {
   "cell_type": "code",
   "execution_count": null,
   "metadata": {},
   "outputs": [],
   "source": []
  }
 ],
 "metadata": {
  "kernelspec": {
   "display_name": "Python 3",
   "language": "python",
   "name": "python3"
  },
  "language_info": {
   "codemirror_mode": {
    "name": "ipython",
    "version": 3
   },
   "file_extension": ".py",
   "mimetype": "text/x-python",
   "name": "python",
   "nbconvert_exporter": "python",
   "pygments_lexer": "ipython3",
   "version": "3.6.5"
  }
 },
 "nbformat": 4,
 "nbformat_minor": 2
}
