{
 "cells": [
  {
   "cell_type": "code",
   "execution_count": 150,
   "metadata": {},
   "outputs": [],
   "source": [
    "# COl759\n",
    "import numpy as np\n",
    "import HillCipherDecryption as hd\n",
    "import HillCipherEncryption as he"
   ]
  },
  {
   "cell_type": "code",
   "execution_count": 151,
   "metadata": {},
   "outputs": [],
   "source": [
    "#for char to int where a=0...z=25\n",
    "def charToInt(s):\n",
    "    value=ord(s)-ord('a')\n",
    "    return value\n",
    "\n",
    "#for int to char where 0=a...25=z\n",
    "def intTochar(s):\n",
    "    return chr(s%26 +ord('a'))"
   ]
  },
  {
   "cell_type": "code",
   "execution_count": 152,
   "metadata": {},
   "outputs": [],
   "source": [
    "def IdCoincidence(charOrdList):\n",
    "    freq ={}\n",
    "    N = len(charOrdList)\n",
    "    for i in charOrdList:\n",
    "        if i in freq:\n",
    "            freq[i]+=1\n",
    "        else:\n",
    "            freq[i]=1\n",
    "    num = 0\n",
    "    for i in freq:\n",
    "        num += freq[i]*(freq[i]-1)\n",
    "    ic = num/(N*(N-1))\n",
    "    return ic"
   ]
  },
  {
   "cell_type": "code",
   "execution_count": 153,
   "metadata": {},
   "outputs": [],
   "source": [
    "def ngram():\n",
    "    bigram = [\"th\", \"he\", \"in\", \"er\", \"an\", \"re\", \"nd\", \"at\", \"on\", \"nt\"]\n",
    "    trigram = [\"the\", \"and\", \"ing\", \"ent\", \"ion\", \"tio\", \"for\", \"nde\", \"has\", \"nce\"]\n",
    "    return bigram, trigram\n",
    "\n"
   ]
  },
  {
   "cell_type": "code",
   "execution_count": 154,
   "metadata": {},
   "outputs": [],
   "source": [
    "def frequency(cipherTextPairs):\n",
    "    freqDict ={}\n",
    "    for i in cipherTextPairs:\n",
    "        if i in freqDict:\n",
    "            freqDict[i]+=1\n",
    "        else:\n",
    "            freqDict[i]=1\n",
    "    return freqDict"
   ]
  },
  {
   "cell_type": "code",
   "execution_count": 198,
   "metadata": {},
   "outputs": [],
   "source": [
    "def inputKeySize():\n",
    "    print(\"Enter the keySize \\n\")\n",
    "    print(\"cipher text is taken automatically from ./InputFiles/cipherText.txt\")\n",
    "    keySize = int(input())\n",
    "    cipher = open(\"./InputFiles/cipherText.txt\",'r')\n",
    "    cipherTextList = list(cipher.read().replace(\"\\n\",\"\").replace(\" \",\"\"))\n",
    "    return keySize, cipherTextList\n",
    "\n",
    "\n",
    "def ngramGenerator(keySize,cipherTextList):\n",
    "    cipherTextPairs = np.reshape(np.array(cipherTextList),(-1,keySize))\n",
    "    ngram = []\n",
    "    for i in cipherTextPairs:\n",
    "        ngram.append(\"\".join(i))\n",
    "    return ngram\n",
    "    "
   ]
  },
  {
   "cell_type": "code",
   "execution_count": 199,
   "metadata": {},
   "outputs": [],
   "source": [
    "def topTenFreq():\n",
    "    (keySize, cipherTextList) = inputKeySize()\n",
    "    ngram = ngramGenerator(keySize, cipherTextList)\n",
    "    freqDict = frequency(ngram)\n",
    "    sortedfreq = sorted(freqDict , key = freqDict.get)[::-1]\n",
    "    return sortedfreq[:10] , keySize   \n"
   ]
  },
  {
   "cell_type": "code",
   "execution_count": 200,
   "metadata": {},
   "outputs": [],
   "source": [
    "# Ax+My = 1 = gcd(A,M) = gcd(M,A%M)\n",
    "x=1\n",
    "y=0\n",
    "cf=0  #highest commmon factor\n",
    "def gcd(A,M):\n",
    "    global x\n",
    "    global y\n",
    "    global cf\n",
    "    if M==0:\n",
    "        x=1\n",
    "        y=0\n",
    "        cf=A\n",
    "    else:\n",
    "        gcd(M,A%M)\n",
    "        temp=x\n",
    "        x=y\n",
    "        y=temp-(A//M)*y\n",
    "#         print(x,y,cf)"
   ]
  },
  {
   "cell_type": "code",
   "execution_count": 204,
   "metadata": {},
   "outputs": [],
   "source": [
    "def invKey(key,keySize):\n",
    "    \n",
    "    det = np.round(np.linalg.det(key))\n",
    "\n",
    "    gcd(det,26)\n",
    "    global cf\n",
    "    global x\n",
    "    if(cf!=1):\n",
    "        return np.zeros((keySize,keySize))\n",
    "\n",
    "    invKey = np.linalg.inv(key)\n",
    "\n",
    "    adj = np.round(invKey*det)*(x%26) #cf is the modular inverse of det w.r.t 26\n",
    "\n",
    "    keymodInv = np.mod(adj.astype(int),26)\n",
    "    return keymodInv"
   ]
  },
  {
   "cell_type": "code",
   "execution_count": 209,
   "metadata": {},
   "outputs": [],
   "source": [
    "def shittyfuck():\n",
    "    (topTenCipherList, keySize) = topTenFreq()\n",
    "    (Eng_bigram, Eng_trigram) = ngram()\n",
    "    if keySize ==2:\n",
    "        Eng_topTen = Eng_bigram\n",
    "    else:\n",
    "        Eng_topTen = Eng_trigram\n",
    "    \n",
    "    count=0\n",
    "    for i in range(10):\n",
    "        for j in range(i+1,10):\n",
    "            for k in range(10):\n",
    "                for l in range(k+1,10):\n",
    "                    count+=1\n",
    "                    eng1 = np.reshape(np.array(list(map(charToInt,list(Eng_topTen[i])))),(keySize,-1))\n",
    "                    eng2 = np.reshape(np.array(list(map(charToInt,list(Eng_topTen[j])))),(keySize,-1))\n",
    "                    ciph1 = np.reshape(np.array(list(map(charToInt,list(topTenCipherList[k])))),(keySize,-1))\n",
    "                    ciph2 = np.reshape(np.array(list(map(charToInt,list(topTenCipherList[l])))),(keySize,-1))\n",
    "                    \n",
    "                    Cmatrix1 = np.append(ciph1,ciph2,axis = 1)\n",
    "                    Cmatrix2 = np.append(ciph2,ciph1,axis = 1)\n",
    "                    Pmatrix1 = np.append(eng1,eng2,axis = 1)\n",
    "                    Pmatrix2 = np.append(eng2,eng1,axis = 1)\n",
    "                    \n",
    "                    Pmatrix1_inv =  np.zeros((keySize,keySize))\n",
    "                    Pmatrix2_inv =  np.zeros((keySize,keySize))\n",
    "                    \n",
    "                    Pmatrix1_inv = invKey(Pmatrix1, keySize)\n",
    "                    if not np.array_equal(Pmatrix1_inv , np.zeros((keySize,keySize)) ): \n",
    "                        key1 = np.dot(Cmatrix1,Pmatrix1_inv)\n",
    "                        key2 = np.dot(Cmatrix2,Pmatrix1_inv)\n",
    "                        \n",
    "                    Pmatrix2_inv = invKey(Pmatrix2, keySize) \n",
    "                    if not np.array_equal(Pmatrix2_inv , np.zeros((keySize,keySize)) ): \n",
    "                        key3 = np.dot(Cmatrix1,Pmatrix2_inv)\n",
    "                        key4 = np.dot(Cmatrix2,Pmatrix2_inv)\n",
    "                    \n",
    "                    \n",
    "                    \n",
    "                    \n",
    "                    \n",
    "                    \n",
    "    \n",
    "    print(count)\n",
    "            \n",
    "            "
   ]
  },
  {
   "cell_type": "code",
   "execution_count": 210,
   "metadata": {
    "scrolled": false
   },
   "outputs": [
    {
     "name": "stdout",
     "output_type": "stream",
     "text": [
      "Enter the keySize \n",
      "\n",
      "cipher text is taken automatically from ./InputFiles/cipherText.txt\n",
      "2\n",
      "2025\n"
     ]
    }
   ],
   "source": [
    "shittyfuck()"
   ]
  },
  {
   "cell_type": "code",
   "execution_count": 202,
   "metadata": {},
   "outputs": [
    {
     "data": {
      "text/plain": [
       "array([[0., 0., 0.],\n",
       "       [0., 0., 0.],\n",
       "       [0., 0., 0.]])"
      ]
     },
     "execution_count": 202,
     "metadata": {},
     "output_type": "execute_result"
    }
   ],
   "source": []
  },
  {
   "cell_type": "code",
   "execution_count": null,
   "metadata": {},
   "outputs": [],
   "source": []
  }
 ],
 "metadata": {
  "kernelspec": {
   "display_name": "Python 3",
   "language": "python",
   "name": "python3"
  },
  "language_info": {
   "codemirror_mode": {
    "name": "ipython",
    "version": 3
   },
   "file_extension": ".py",
   "mimetype": "text/x-python",
   "name": "python",
   "nbconvert_exporter": "python",
   "pygments_lexer": "ipython3",
   "version": "3.6.5"
  }
 },
 "nbformat": 4,
 "nbformat_minor": 2
}
