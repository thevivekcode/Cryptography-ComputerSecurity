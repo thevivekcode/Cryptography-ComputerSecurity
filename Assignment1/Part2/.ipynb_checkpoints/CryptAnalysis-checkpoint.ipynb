{
 "cells": [
  {
   "cell_type": "code",
   "execution_count": 1,
   "metadata": {},
   "outputs": [],
   "source": [
    "# COl759\n",
    "import numpy as np\n",
    "import time"
   ]
  },
  {
   "cell_type": "code",
   "execution_count": 2,
   "metadata": {},
   "outputs": [],
   "source": [
    "#for char to int where a=0...z=25\n",
    "def charToInt(s):\n",
    "    value=ord(s)-ord('a')\n",
    "    return value\n",
    "\n",
    "#for int to char where 0=a...25=z\n",
    "def intTochar(s):\n",
    "    return chr(s%26 +ord('a'))"
   ]
  },
  {
   "cell_type": "code",
   "execution_count": 1,
   "metadata": {},
   "outputs": [],
   "source": [
    "def IdCoincidence(charOrdList):\n",
    "    freq ={}\n",
    "    N = len(charOrdList)\n",
    "    for i in charOrdList:\n",
    "        if i in freq:\n",
    "            freq[i]+=1\n",
    "        else:\n",
    "            freq[i]=1\n",
    "    num = 0\n",
    "    for i in freq:\n",
    "        num += freq[i]*(freq[i]-1)\n",
    "    ic = num/(N*(N-1))\n",
    "    return ic"
   ]
  },
  {
   "cell_type": "code",
   "execution_count": 4,
   "metadata": {},
   "outputs": [],
   "source": [
    "def ngram():\n",
    "    unigram = [\"e\", \"t\", \"a\", \"o\", \"i\", \"n\", \"s\", \"h\", \"r\", \"d\"]\n",
    "    bigram = [\"th\", \"he\", \"in\", \"er\", \"an\", \"re\", \"nd\", \"at\", \"on\", \"nt\"]\n",
    "    trigram = [\"the\", \"and\", \"ing\", \"ent\", \"ion\", \"tio\", \"for\", \"nde\", \"has\", \"nce\"]\n",
    "    return bigram, trigram, unigram\n",
    "\n"
   ]
  },
  {
   "cell_type": "code",
   "execution_count": 5,
   "metadata": {},
   "outputs": [],
   "source": [
    "def frequency(cipherTextPairs):\n",
    "    freqDict ={}\n",
    "    for i in cipherTextPairs:\n",
    "        if i in freqDict:\n",
    "            freqDict[i]+=1\n",
    "        else:\n",
    "            freqDict[i]=1\n",
    "    return freqDict"
   ]
  },
  {
   "cell_type": "code",
   "execution_count": 6,
   "metadata": {},
   "outputs": [],
   "source": [
    "def inputKeySize():\n",
    "    print(\"Enter the keySize \\n\")\n",
    "    print(\"cipher text is taken automatically from ./InputFiles/cipherText.txt\")\n",
    "    keySize = int(input())\n",
    "    cipher = open(\"./InputFiles/cipherText3.txt\",'r')\n",
    "    cipherTextList = list(cipher.read().replace(\"\\n\",\"\").replace(\" \",\"\"))\n",
    "    remainder = len(cipherTextList)%keySize\n",
    "    if remainder !=0:\n",
    "        return keySize, cipherTextList[:-remainder]\n",
    "    else: \n",
    "        return keySize, cipherTextList\n",
    "\n",
    "\n",
    "def ngramGenerator(keySize,cipherTextList):\n",
    "    cipherTextPairs = np.reshape(np.array(cipherTextList),(-1,keySize))\n",
    "    ngram = []\n",
    "    for i in cipherTextPairs:\n",
    "        ngram.append(\"\".join(i))\n",
    "    return ngram\n",
    "    "
   ]
  },
  {
   "cell_type": "code",
   "execution_count": 7,
   "metadata": {},
   "outputs": [],
   "source": [
    "def topTenFreq():\n",
    "    (keySize, cipherTextList) = inputKeySize()\n",
    "#     print(cipherTextList)\n",
    "    ngram = ngramGenerator(keySize, cipherTextList)\n",
    "    freqDict = frequency(ngram)\n",
    "    sortedfreq = sorted(freqDict , key = freqDict.get)[::-1]\n",
    "    return sortedfreq[:10] , keySize   \n"
   ]
  },
  {
   "cell_type": "code",
   "execution_count": 8,
   "metadata": {},
   "outputs": [],
   "source": [
    "# Ax+My = 1 = gcd(A,M) = gcd(M,A%M)\n",
    "x=1\n",
    "y=0\n",
    "cf=0  #highest commmon factor\n",
    "def gcd(A,M):\n",
    "    global x\n",
    "    global y\n",
    "    global cf\n",
    "    if M==0:\n",
    "        x=1\n",
    "        y=0\n",
    "        cf=A\n",
    "    else:\n",
    "        gcd(M,A%M)\n",
    "        temp=x\n",
    "        x=y\n",
    "        y=temp-(A//M)*y\n",
    "#         print(x,y,cf)"
   ]
  },
  {
   "cell_type": "code",
   "execution_count": 9,
   "metadata": {},
   "outputs": [],
   "source": [
    "##takes input key and cpherText in\" int np.array\" format\n",
    "def decryption(K,C):\n",
    "    PT=[np.dot(K,CT) for CT in C]\n",
    "    return list(map(intTochar,list(np.reshape(PT,(1,-1)).flat)))"
   ]
  },
  {
   "cell_type": "code",
   "execution_count": 10,
   "metadata": {},
   "outputs": [],
   "source": [
    "def invKey(key,keySize):\n",
    "#     print(\"func invKey :\")\n",
    "#     print(key)\n",
    "    det = np.round(np.linalg.det(key))\n",
    "\n",
    "    gcd(det,26)\n",
    "    global cf\n",
    "    global x\n",
    "    if(cf!=1):\n",
    "        return np.zeros((keySize,keySize))\n",
    "\n",
    "    invKey = np.linalg.inv(key)\n",
    "\n",
    "    adj = np.round(invKey*det)*(x%26) #cf is the modular inverse of det w.r.t 26\n",
    "\n",
    "    keymodInv = np.mod(adj.astype(int),26)\n",
    "    return keymodInv"
   ]
  },
  {
   "cell_type": "code",
   "execution_count": 11,
   "metadata": {},
   "outputs": [],
   "source": [
    "def cipherTextinput():\n",
    "    with open(\"./InputFiles/cipherText3.txt\",\"r\") as chipherTextFile:\n",
    "        cipherText = chipherTextFile.read().replace(\"\\n\",\"\").replace(\" \",\"\")\n",
    "        return list(map(charToInt,list(cipherText)))"
   ]
  },
  {
   "cell_type": "code",
   "execution_count": 12,
   "metadata": {},
   "outputs": [],
   "source": [
    "def decrypt(keymodInv,keySize):\n",
    "    cipherTextList = cipherTextinput()\n",
    "    remainder = len(cipherTextList)%keySize\n",
    "    if remainder !=0:\n",
    "        cipherTextMatrix = np.reshape(cipherTextList[:-remainder],(-1,keySize))\n",
    "    else:\n",
    "        cipherTextMatrix = np.reshape(cipherTextList,(-1,keySize))\n",
    "    plainTextList=decryption(keymodInv,cipherTextMatrix)\n",
    "    s = \"\".join(plainTextList)\n",
    "    return s"
   ]
  },
  {
   "cell_type": "code",
   "execution_count": 13,
   "metadata": {},
   "outputs": [],
   "source": [
    "def forOne(topTenCipherList,Eng_topTen,keySize):\n",
    "    opFile = open(\"analysis\",\"w+\")\n",
    "    count=0\n",
    "    for i in range(len(Eng_topTen)):\n",
    "        for j in range(len(topTenCipherList)):\n",
    "            eng = np.reshape(np.array(list(map(charToInt,list(Eng_topTen[i])))),(keySize,-1))\n",
    "            ciph = np.reshape(np.array(list(map(charToInt,list(topTenCipherList[j])))),(keySize,-1))\n",
    "            \n",
    "            Cmatrix = eng \n",
    "            Pmatrix = ciph\n",
    "\n",
    "            Pmatrix_inv = invKey(Pmatrix, keySize)\n",
    "            if not np.array_equal(Pmatrix_inv , np.zeros((keySize,keySize)) ): \n",
    "                \n",
    "                key =np.mod( np.dot(Cmatrix,Pmatrix_inv),26)\n",
    "                keyInv = invKey(key,keySize)\n",
    "                key =list(key.flat)\n",
    "                PT = decrypt(keyInv.astype(int),keySize)\n",
    "                ic = IdCoincidence(list(PT))\n",
    "                if (ic > 0.06) and (ic < 0.07):\n",
    "                    print(key)\n",
    "                    print(\"\\n\")\n",
    "                    print(PT)\n",
    "                    opFile.write(str(key))\n",
    "                    opFile.write(\"\\n\")\n",
    "                    opFile.write(PT)\n",
    "                    opFile.write(\"\\n\")\n",
    "            \n",
    "    \n",
    "    opFile.close()\n",
    "            \n",
    "            "
   ]
  },
  {
   "cell_type": "code",
   "execution_count": 14,
   "metadata": {},
   "outputs": [],
   "source": [
    "def forTwo(topTenCipherList,Eng_topTen,keySize):\n",
    "    opFile = open(\"analysis\",\"w+\")\n",
    "    count=0\n",
    "    for i in range(len(Eng_topTen)):\n",
    "        for j in range(i+1,len(Eng_topTen)):\n",
    "            for k in range(len(topTenCipherList)):\n",
    "                for l in range(k+1,len(topTenCipherList)):\n",
    "                    count+=1\n",
    "                    eng1 = np.reshape(np.array(list(map(charToInt,list(Eng_topTen[i])))),(keySize,-1))\n",
    "                    eng2 = np.reshape(np.array(list(map(charToInt,list(Eng_topTen[j])))),(keySize,-1))\n",
    "                    ciph1 = np.reshape(np.array(list(map(charToInt,list(topTenCipherList[k])))),(keySize,-1))\n",
    "                    ciph2 = np.reshape(np.array(list(map(charToInt,list(topTenCipherList[l])))),(keySize,-1))\n",
    "                    \n",
    "                    Cmatrix1 = np.append(ciph1,ciph2,axis = 1)\n",
    "                    Cmatrix2 = np.append(ciph2,ciph1,axis = 1)\n",
    "                    Pmatrix1 = np.append(eng1,eng2,axis = 1)\n",
    "#                     Pmatrix2 = np.append(eng2,eng1,axis = 1)\n",
    "                    \n",
    "                    \n",
    "                    Pmatrix1_inv = invKey(Pmatrix1, keySize)\n",
    "                    if not np.array_equal(Pmatrix1_inv , np.zeros((keySize,keySize)) ): \n",
    "                        key1 =np.mod( np.dot(Cmatrix1,Pmatrix1_inv),26)\n",
    "                        key1Inv = invKey(key1,keySize)\n",
    "                        key1 =list(key1.flat)\n",
    "                        if np.array_equal(key1Inv, np.zeros((keySize,keySize)) ):\n",
    "                            continue\n",
    "                        PT = decrypt(key1Inv.astype(int),keySize)\n",
    "                        ic = IdCoincidence(list(PT))\n",
    "                        if (ic > 0.06) and (ic < 0.07):\n",
    "                            print(key1)\n",
    "                            print(\"\\n\")\n",
    "                            print(PT)\n",
    "                            opFile.write(str(key1))\n",
    "                            opFile.write(\"\\n\")\n",
    "                            opFile.write(PT)\n",
    "                            opFile.write(\"\\n\")\n",
    "                        \n",
    "                        key2 = np.mod(np.dot(Cmatrix2,Pmatrix1_inv), 26)\n",
    "                        key2Inv = invKey(key2,keySize)\n",
    "                        key2 =list(key2.flat)\n",
    "                        if np.array_equal(key2Inv, np.zeros((keySize,keySize)) ):\n",
    "                            continue\n",
    "                        PT = decrypt(key2Inv.astype(int),keySize)\n",
    "                        ic = IdCoincidence(list(PT))\n",
    "                        if (ic > 0.06) and (ic < 0.07):\n",
    "                            print(key2)\n",
    "                            print(\"\\n\")\n",
    "                            print(PT)\n",
    "                            opFile.write(str(key2))\n",
    "                            opFile.write(\"\\n\")\n",
    "                            opFile.write(PT)\n",
    "                            opFile.write(\"\\n\")\n",
    "                        \n",
    "                                   \n",
    "    opFile.close()\n",
    " "
   ]
  },
  {
   "cell_type": "code",
   "execution_count": 15,
   "metadata": {},
   "outputs": [],
   "source": [
    "def forThree(topTenCipherList,Eng_topTen,keySize):\n",
    "    opFile = open(\"analysis\",\"w+\")\n",
    "    count=0\n",
    "    for h in range(len(Eng_topTen)):\n",
    "        for i in range(h+1,len(Eng_topTen)):\n",
    "            for j in range(i+1,len(Eng_topTen)):\n",
    "                for jk in range(len(topTenCipherList)):\n",
    "                    for k in range(jk+1,len(topTenCipherList)):\n",
    "                        for l in range(k+1,len(topTenCipherList)):\n",
    "                            eng =[1,1,1]\n",
    "                            ciph=[1,1,1]\n",
    "                            Cmatrix=[]\n",
    "                            Pmatrix =[]\n",
    "                            eng[0] = np.reshape(np.array(list(map(charToInt,list(Eng_topTen[h])))),(keySize,-1))\n",
    "                            eng[1] = np.reshape(np.array(list(map(charToInt,list(Eng_topTen[i])))),(keySize,-1))\n",
    "                            eng[2] = np.reshape(np.array(list(map(charToInt,list(Eng_topTen[j])))),(keySize,-1))\n",
    "                            ciph[0] = np.reshape(np.array(list(map(charToInt,list(topTenCipherList[jk])))),(keySize,-1))\n",
    "                            ciph[1] = np.reshape(np.array(list(map(charToInt,list(topTenCipherList[k])))),(keySize,-1))\n",
    "                            ciph[2] = np.reshape(np.array(list(map(charToInt,list(topTenCipherList[l])))),(keySize,-1))\n",
    "                            \n",
    "                            Pmatrix.append(np.append(np.append(eng[0],eng[1],axis = 1),eng[2],axis =1))\n",
    "                            \n",
    "                            for i2 in range(0,3):\n",
    "                                for j2 in range(0,3):\n",
    "                                    for k2 in range(0,3):\n",
    "                                        if i2!=j2 and j2!=k2 and i2!=k2:\n",
    "                                            Cmatrix.append(np.append(np.append(ciph[i2],ciph[j2],axis = 1),ciph[k2],axis =1))\n",
    "                                            \n",
    "                            \n",
    "                           \n",
    "                            for i3 in range(len(Cmatrix)):\n",
    "                                for j3 in range(len(Pmatrix)):\n",
    "                                \n",
    "                                    Pmatrix_inv = invKey(Pmatrix[j3], keySize)\n",
    "                                    if not np.array_equal(Pmatrix_inv , np.zeros((keySize,keySize)) ): \n",
    "#                                         print(Pmatrix_inv)\n",
    "                                        key =np.mod( np.dot(Cmatrix[i3],Pmatrix_inv),26)\n",
    "                                        keyInv = invKey(key,keySize)\n",
    "                                        key =list(key.flat)\n",
    "                                        if np.array_equal(keyInv, np.zeros((keySize,keySize)) ):\n",
    "                                            continue\n",
    "                                        PT = decrypt(keyInv.astype(int),keySize)\n",
    "                                        ic = IdCoincidence(list(PT))\n",
    "                                        if (ic > 0.055) and (ic < 0.075):\n",
    "                                            print(key)\n",
    "                                            print(\"\\n\")\n",
    "                                            print(PT)\n",
    "                                            opFile.write(str(key))\n",
    "                                            opFile.write(\"\\n\")\n",
    "                                            opFile.write(PT)\n",
    "                                            opFile.write(\"\\n\")\n",
    "                                    \n",
    "\n",
    "    opFile.close()\n",
    "    \n",
    "    "
   ]
  },
  {
   "cell_type": "code",
   "execution_count": 16,
   "metadata": {},
   "outputs": [],
   "source": [
    "def cryptAnalysis():\n",
    "    startTime = time.time()\n",
    "    (topTenCipherList, keySize) = topTenFreq()\n",
    "    (Eng_bigram, Eng_trigram, Eng_unigram) = ngram()\n",
    "    if keySize ==2:\n",
    "        Eng_topTen = Eng_bigram\n",
    "    elif keySize == 3:\n",
    "        Eng_topTen = Eng_trigram\n",
    "    else:\n",
    "        Eng_topTen = Eng_unigram\n",
    "        \n",
    "\n",
    "    if keySize == 1:\n",
    "        print(topTenCipherList)\n",
    "        print(Eng_topTen)\n",
    "        forOne(topTenCipherList,Eng_topTen,keySize)\n",
    "    elif keySize == 2: \n",
    "        print(topTenCipherList)\n",
    "        print(Eng_topTen)\n",
    "        forTwo(topTenCipherList,Eng_topTen,keySize)\n",
    "    else:\n",
    "        print(topTenCipherList)\n",
    "        print(Eng_topTen)\n",
    "        forThree(topTenCipherList,Eng_topTen,keySize)\n",
    "    print(time.time() - startTime)\n",
    "    \n",
    "            \n",
    "            "
   ]
  },
  {
   "cell_type": "code",
   "execution_count": 17,
   "metadata": {
    "scrolled": false
   },
   "outputs": [
    {
     "name": "stdout",
     "output_type": "stream",
     "text": [
      "Enter the keySize \n",
      "\n",
      "cipher text is taken automatically from ./InputFiles/cipherText.txt\n",
      "3\n",
      "['cid', 'pao', 'ajn', 'jwr', 'yyr', 'exv', 'piq', 'deg', 'kcv', 'nld']\n",
      "['the', 'and', 'ing', 'ent', 'ion', 'tio', 'for', 'nde', 'has', 'nce']\n",
      "[6, 24, 1, 13, 16, 10, 20, 17, 15]\n",
      "\n",
      "\n",
      "thesceneistotalchaosnawomanandallherpurseuscontentsinmiddairasshetripsoverachildustoyzamanhastilytryingtogatherhisspilledlaundryzascreamingchildweavingthroughthecrowdbmomewherezinthemidstofitallzisthepersonyouuvebeenlookingfornwearingaredandwhitestripedshirtzblackrimmedglassesandalopsidedcapbnhereheisonhereusqaldobganyofushavefondmemoriesofqaldobvutwhileheloomslargeinourimaginationzourchildhoodsearchesforqaldotypicallystayedprettysmallcqaldoisatinypersoninthemiddleoflotsofothertinythingsbundthatuswhatthispostisaboutnweethingsbmpecificallyztheweethingsthatweseeaspartofgraphicszmapszvisualizationsvweethingsinspacewaswellastheweethingsweexperienceaspartofinteractionsznavigationzandusabilityvweethingsintimewbnhismeanseverythingfromsequencesofsmallgraphicsthathelpusmakecomparisonsztotinylocatormapsthathelporientuswithinalargergraphicztonavigationiconsthatgivehintsabouthowweshouldmakeourwayaroundapagebqaldozandtheeternalsearchforhimzcanactuallytellusquitealotaboutdesignbcnmanywayszqaldoisagreatexampleofwhathintodowhenusingweethingsinyourownworkbmowithqaldoasourantiaherozletustakealookathowpeoplereadandinterpretsmallvisualformszwhytinydetailscanbehugelyusefulzandwhatprincipleswecanapplytomakealltheselittleimagesandmomentsworkforusasdesignersbqeenhingscnmpacejrobablythemostimmediatedefinitionofweethingsarethingsthatarephysicallysmallnlittlethingsonapagebqeseetheseallthetimeinnewsgraphicszandweureprobablyfamiliarwithsomeoftheirformsnsmallmultipleszsparklinesziconszetcbcullgointomoredetailsaboutallofthesebnhesevisualformsworkbecausetheyserveasextensionsofourmindctheyarecognitivetoolsthatcomplementourownmentalabilitiesbnheydothisbyrecordinginformationforustomakeuseoflaterzlendingahandtoourvprettyterriblewworkingmemorieszhelpingussearchanddiscoverandrecognizebqeulltakealookatonetaskinparticulartheyaregreatatnlettingusmakecomparisonsbx\n",
      "154.53089833259583\n"
     ]
    }
   ],
   "source": [
    "# cryptAnalysis()"
   ]
  },
  {
   "cell_type": "code",
   "execution_count": null,
   "metadata": {},
   "outputs": [],
   "source": [
    "a = \"mzaawwxkerllaaeeanerkkylkxwjeeanyyddanobccbonavianaatgkxkxwwmzmmjwxxlyjwlynareanyyddccjwlyviyyrekxlyeeanggtglylybouutgxxanzzwwxxddkxllaaeenalyanuutgxxanllobkxmznawwnayyjwaazzobkxmmaaxxylobnajwlynaremmyyboeetghusfanddgteeeeeraneeuukkankxggxxlyyyuukkankxggreylaalyqqxxeraneellyyddqqqdreqdmmzmanlylynalyxxsflyuuaasflyuuanmztgjwlyaajwkxylggxxlylyobggbbdqzmwjylankxjwxkccjwqdkxlypceeuukkxxtgddwjgtyyzzanlylydqtgffyytgnallccsfanbbuukxsfllyytgggjwaawwjwxkkxaaeeyyylmmobeekxmmanwwlyxxlytgeegtobkxggxxyljwxktgllaaeetgggviddtgkkxxlytgjwjwaazmanjwjwankxsfoodqjwanylankxlyaaxxkkkxlyhukkxxwjanlygglylyiilyeeaaeeddaakxtgvv\""
   ]
  },
  {
   "cell_type": "code",
   "execution_count": null,
   "metadata": {},
   "outputs": [],
   "source": [
    "IdCoincidence(list(map(charToInt,list(a))))"
   ]
  },
  {
   "cell_type": "code",
   "execution_count": null,
   "metadata": {},
   "outputs": [],
   "source": []
  }
 ],
 "metadata": {
  "kernelspec": {
   "display_name": "Python 3",
   "language": "python",
   "name": "python3"
  },
  "language_info": {
   "codemirror_mode": {
    "name": "ipython",
    "version": 3
   },
   "file_extension": ".py",
   "mimetype": "text/x-python",
   "name": "python",
   "nbconvert_exporter": "python",
   "pygments_lexer": "ipython3",
   "version": "3.6.5"
  }
 },
 "nbformat": 4,
 "nbformat_minor": 2
}
