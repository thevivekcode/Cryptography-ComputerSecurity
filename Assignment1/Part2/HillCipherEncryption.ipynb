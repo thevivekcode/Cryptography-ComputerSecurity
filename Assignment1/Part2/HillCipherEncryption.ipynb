{
 "cells": [
  {
   "cell_type": "code",
   "execution_count": 1,
   "metadata": {},
   "outputs": [],
   "source": [
    "import math\n",
    "import numpy as np\n",
    "import sys"
   ]
  },
  {
   "cell_type": "code",
   "execution_count": 2,
   "metadata": {},
   "outputs": [],
   "source": [
    "#for char to int where a=0...z=25\n",
    "def charToInt(s):\n",
    "    value=ord(s)-ord('a')\n",
    "    return value\n",
    "\n",
    "#for int to char where 0=a...25=z\n",
    "def intTochar(s):\n",
    "    return chr(s%26 +ord('a'))"
   ]
  },
  {
   "cell_type": "code",
   "execution_count": 3,
   "metadata": {},
   "outputs": [],
   "source": [
    "def keyInput():\n",
    "    with open(\"./InputFiles/key.txt\",\"r\") as keyFile:\n",
    "        keyString = keyFile.read().replace(\"\\n\",\" \").split()\n",
    "        keyList = list(map(int,keyString))\n",
    "        keyLen = int(math.sqrt(len(keyList)))\n",
    "        key =  np.reshape((np.array(keyList[:(keyLen**2)])),(keyLen,keyLen))\n",
    "        return key,keyLen\n",
    "        \n",
    "        "
   ]
  },
  {
   "cell_type": "code",
   "execution_count": 4,
   "metadata": {},
   "outputs": [],
   "source": [
    "def plainTextInput():\n",
    "    with open(\"./InputFiles/plainText.txt\",\"r\") as plainTextFile:\n",
    "        plainText = plainTextFile.read().replace(\"\\n\",\"\").replace(\" \",\"\")\n",
    "        return list(map(charToInt,list(plainText)))\n",
    "#         return list(plainText)"
   ]
  },
  {
   "cell_type": "code",
   "execution_count": 5,
   "metadata": {},
   "outputs": [],
   "source": [
    "#takes input key and plaintext in \"int np.array\" format\n",
    "def encryption(K,P):\n",
    "    CT=[np.dot(K,PT) for PT in P]\n",
    "    s=\"\"\n",
    "    return s.join(list(map(intTochar,list(np.reshape(CT,(1,-1)).flat))))"
   ]
  },
  {
   "cell_type": "code",
   "execution_count": 9,
   "metadata": {},
   "outputs": [],
   "source": [
    "def encrypt():\n",
    "    (key,keyLen) = keyInput()\n",
    "    # print(key, keyLen)\n",
    "    plainTextList = plainTextInput()\n",
    "    paddLen = keyLen-len(plainTextList)%keyLen\n",
    "    # print(paddLen)\n",
    "    for i in range(paddLen):\n",
    "        plainTextList.append(23)\n",
    "    # print(plainTextList)\n",
    "    plainText = np.reshape(np.array(plainTextList),(-1,keyLen))\n",
    "    # print(plainText)\n",
    "\n",
    "    # cipherFile = open(\"cipherOutput\",\"w+\")\n",
    "    cipherText = encryption(key,plainText)\n",
    "#     print(cipherText)\n",
    "    # cipherFile.write(cipherText)\n",
    "    return cipherText\n",
    "\n",
    "\n",
    " \n",
    "\n"
   ]
  },
  {
   "cell_type": "code",
   "execution_count": 10,
   "metadata": {},
   "outputs": [
    {
     "data": {
      "text/plain": [
       "'doimsasxrufhimaodypeiingfkbukqvmwahvvmrqqsqvmfapdymssjtsviiyrwgmkbfxatudydizylvmwahvwogvydmhukgxpmuxmgdycyqtmlcjcnasuznjnaframfxhvfkfhimaoovcjnaasuznjnaldjenwvcwhuqankigvegtzjeviwkkcpzhkhowhudobizyliccwgtscavstrepqhvlscescrupqkqasskdyfkgefxatwaasskdyfkgecrzyimuxssbrrupqkqjnukhvkghiojnewkuhnaobuxwhydltliuxkukctuuxkudyfeyfohshkccpjqngyspzatuxhoiupnozgznmhkdyrcmrsxyemrzwhaatwbscsgiitfqthvlwlsuktzpqshuxozuzjfagclanhxqsrenanxasvirejnukwpoqilykkoyjsxviykyyukxioybskqpmicpqiyshnjatuzmgtexmvimapzngyjsxclfhimaocliumhhvyfgstfatuzudkbegctpqefkbpqpmliuoktkbzsbodyrcatykbruanwatstiitftivmoboquxuxioifmgkcyyhvimtsebzh'"
      ]
     },
     "execution_count": 10,
     "metadata": {},
     "output_type": "execute_result"
    }
   ],
   "source": [
    "op = encrypt()\n",
    "op"
   ]
  },
  {
   "cell_type": "code",
   "execution_count": null,
   "metadata": {},
   "outputs": [],
   "source": []
  }
 ],
 "metadata": {
  "kernelspec": {
   "display_name": "Python 3",
   "language": "python",
   "name": "python3"
  },
  "language_info": {
   "codemirror_mode": {
    "name": "ipython",
    "version": 3
   },
   "file_extension": ".py",
   "mimetype": "text/x-python",
   "name": "python",
   "nbconvert_exporter": "python",
   "pygments_lexer": "ipython3",
   "version": "3.6.5"
  }
 },
 "nbformat": 4,
 "nbformat_minor": 2
}
