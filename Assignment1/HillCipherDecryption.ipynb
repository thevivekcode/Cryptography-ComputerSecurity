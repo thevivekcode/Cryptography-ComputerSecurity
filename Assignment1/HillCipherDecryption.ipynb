{
 "cells": [
  {
   "cell_type": "code",
   "execution_count": 4,
   "metadata": {},
   "outputs": [],
   "source": [
    "import math\n",
    "import sys\n",
    "import numpy as np"
   ]
  },
  {
   "cell_type": "code",
   "execution_count": 5,
   "metadata": {},
   "outputs": [],
   "source": [
    "#for char to int where a=0...z=25\n",
    "def charToInt(s):\n",
    "    value=ord(s)-ord('a')\n",
    "    return value\n",
    "\n",
    "#for int to char where 0=a...25=z\n",
    "def intTochar(s):\n",
    "    return chr(s%26 +ord('a'))"
   ]
  },
  {
   "cell_type": "code",
   "execution_count": 6,
   "metadata": {},
   "outputs": [],
   "source": [
    "def keyInput():\n",
    "    with open(\"key.txt\",\"r\") as keyFile:\n",
    "        keyString = keyFile.read().replace(\"\\n\",\" \").split()\n",
    "        keyList = list(map(int,keyString))\n",
    "        keyLen = int(math.sqrt(len(keyList)))\n",
    "        key =  np.reshape((np.array(keyList[:(keyLen**2)])),(keyLen,keyLen))\n",
    "        return key,keyLen"
   ]
  },
  {
   "cell_type": "code",
   "execution_count": 7,
   "metadata": {},
   "outputs": [],
   "source": [
    "def cipherTextinput():\n",
    "    with open(\"cipherText.txt\",\"r\") as chipherTextFile:\n",
    "        cipherText = chipherTextFile.read().replace(\"\\n\",\"\").replace(\" \",\"\")\n",
    "        return list(map(charToInt,list(cipherText)))\n",
    "#         return list(plainText)"
   ]
  },
  {
   "cell_type": "code",
   "execution_count": 8,
   "metadata": {},
   "outputs": [],
   "source": [
    "##takes input key and cpherText in\" int np.array\" format\n",
    "def decryption(K,C):\n",
    "    PT=[np.dot(K,CT) for CT in C]\n",
    "    return list(map(intTochar,list(np.reshape(PT,(1,-1)).flat)))"
   ]
  },
  {
   "cell_type": "code",
   "execution_count": 9,
   "metadata": {},
   "outputs": [],
   "source": [
    "# Ax+My = 1 = gcd(A,M) = gcd(M,A%M)\n",
    "x=1\n",
    "y=0\n",
    "cf=0  #highest commmon factor\n",
    "def gcd(A,M):\n",
    "    global x\n",
    "    global y\n",
    "    global cf\n",
    "    if M==0:\n",
    "        x=1\n",
    "        y=0\n",
    "        cf=A\n",
    "    else:\n",
    "        gcd(M,A%M)\n",
    "        temp=x\n",
    "        x=y\n",
    "        y=temp-(A//M)*y\n",
    "#         print(x,y,cf)"
   ]
  },
  {
   "cell_type": "code",
   "execution_count": 22,
   "metadata": {},
   "outputs": [
    {
     "name": "stdout",
     "output_type": "stream",
     "text": [
      "['s', 'p', 'e', 'a', 'k', 'i', 'n', 'g', 'o', 'f', 'd', 'r', 'e', 'a', 'm', 's', 'i', 'n', 'a', 'f', 'i', 'g', 'u', 'r', 'a', 't', 'i', 'v', 'e', 's', 'e', 'n', 's', 'e', 't', 'h', 'e', 'n', 's', 'l', 'o', 'w', 'l', 'y', 't', 'a', 'l', 'k', 'i', 'n', 'g', 'a', 'b', 'o', 'u', 't', 'i', 't', 's', 'i', 'm', 'p', 'a', 'c', 't', 'i', 'n', 't', 'h', 'e', 'l', 'i', 't', 'e', 'r', 'a', 'l', 's', 'e', 'n', 's', 'e', 't', 'h', 'e', 'w', 'r', 'i', 't', 'e', 'r', 'k', 'e', 'e', 'p', 's', 's', 't', 'r', 'e', 's', 's', 'i', 'n', 'g', 'o', 'n', 'o', 'n', 'e', 'v', 'e', 'r', 'y', 'i', 'm', 'p', 'o', 'r', 't', 'a', 'n', 't', 'p', 'o', 'i', 'n', 't', 't', 'h', 'a', 't', 'd', 'r', 'e', 'a', 'm', 's', 'h', 'a', 'v', 'e', 'a', 'n', 'i', 'm', 'p', 'o', 'r', 't', 'a', 'n', 't', 'r', 'o', 'l', 'e', 't', 'o', 'p', 'l', 'a', 'y', 'i', 'n', 'a', 'm', 'e', 'r', 'i', 'c', 'a', 'n', 'p', 'o', 'l', 'i', 't', 'i', 'c', 's', 'a', 'f', 't', 'e', 'r', 'a', 'l', 'l', 'a', 'l', 'i', 'b', 'e', 'r', 'a', 'l', 's', 'o', 'c', 'i', 'e', 't', 'y', 'i', 's', 'f', 'o', 'r', 'm', 'e', 'd', 'o', 'n', 't', 'h', 'e', 'b', 'a', 's', 'i', 's', 'o', 'f', 'o', 'n', 'e', 's', 'i', 'm', 'a', 'g', 'i', 'n', 'a', 't', 'i', 'o', 'n', 't', 'h', 'e', 's', 'e', 'i', 'm', 'a', 'g', 'i', 'n', 'a', 't', 'i', 'o', 'n', 's', 'a', 'r', 'e', 'a', 'r', 'e', 's', 'u', 'l', 't', 'o', 'f', 'o', 'n', 'e', 's', 'f', 'r', 'e', 'e', 't', 'h', 'o', 'u', 'g', 'h', 't', 's', 'w', 'h', 'i', 'c', 'h', 'c', 'a', 'n', 'b', 'e', 'r', 'e', 'l', 'a', 't', 'e', 'd', 't', 'o', 'd', 'r', 'e', 'a', 'm', 's', 'a', 's', 'd', 'r', 'e', 'a', 'm', 'i', 'n', 'g', 'p', 'r', 'o', 'v', 'i', 'd', 'e', 's', 'a', 'p', 'i', 'c', 't', 'u', 'r', 'e', 'o', 'f', 't', 'h', 'e', 'r', 'e', 'a', 'l', 'w', 'o', 'r', 'l', 'd', 'u', 'n', 'c', 'o', 'v', 'e', 'r', 'i', 'n', 'g', 't', 'h', 'i', 'n', 'g', 's', 'w', 'h', 'i', 'c', 'h', 'o', 't', 'h', 'e', 'r', 'w', 'i', 's', 'e', 'm', 'i', 'g', 'h', 't', 'n', 'o', 't', 'h', 'a', 'v', 'e', 'b', 'e', 'e', 'n', 'p', 'o', 'n', 'd', 'e', 'r', 'e', 'd', 'u', 'p', 'o', 'n', 'd', 'u', 'e', 't', 'o', 'n', 'a', 'r', 'r', 'o', 'w', 'e', 'd', 'a', 'n', 'd', 'l', 'i', 'm', 'i', 't', 'e', 'd', 'f', 'r', 'e', 'e', 'd', 'o', 'm', 'o', 'f', 'i', 'm', 'a', 'g', 'i', 'n', 'i', 'n', 'g', 'i', 't', 'm', 'a', 'y', 's', 'e', 'e', 'm', 'r', 'e', 'c', 'k', 'l', 'e', 's', 's', 't', 'o', 'c', 'o', 'n', 's', 'i', 'd', 'e', 'r', 't', 'h', 'e', 'p', 'o', 's', 's', 'i', 'b', 'i', 'l', 'i', 't', 'y', 'o', 'f', 't', 'u', 'r', 'n', 'i', 'n', 'g', 't', 'o', 'd', 'r', 'e', 'a', 'm', 's', 't', 'o', 'w', 'o', 'r', 'k', 't', 'h', 'r', 'o', 'u', 'g', 'h', 't', 'h', 'e', 'p', 'o', 'l', 'i', 't', 'i', 'c', 'a', 'l', 'c', 'o', 'n', 'd', 'i', 't', 'i', 'o', 'n', 's', 't', 'o', 'd', 'a', 'y', 'b', 'u', 't', 'i', 'g', 'n', 'o', 'r', 'i', 'n', 'g', 't', 'h', 'e', 'm', 'a', 'l', 't', 'o', 'g', 'e', 't', 'h', 'e', 'r', 'm', 'i', 'g', 'h', 't', 'e', 'v', 'e', 'n', 'b', 'e', 'm', 'o', 'r', 'e', 'r', 'e', 'c', 'k', 'l', 'e', 's', 's', 's', 'a', 'y', 's', 't', 'h', 'e', 'a', 'u', 't', 'h', 'o', 'r', 'x']\n",
      "speakingofdreamsinafigurativesensethenslowlytalkingaboutitsimpactintheliteralsensethewriterkeepsstressingononeveryimportantpointthatdreamshaveanimportantroletoplayinamericanpoliticsafterallaliberalsocietyisformedonthebasisofonesimaginationtheseimaginationsarearesultofonesfreethoughtswhichcanberelatedtodreamsasdreamingprovidesapictureoftherealworlduncoveringthingswhichotherwisemightnothavebeenpondereduponduetonarrowedandlimitedfreedomofimaginingitmayseemrecklesstoconsiderthepossibilityofturningtodreamstoworkthroughthepoliticalconditionstodaybutignoringthemaltogethermightevenbemorerecklesssaystheauthorx\n"
     ]
    }
   ],
   "source": [
    "(key,keySize) = keyInput()\n",
    "cipherTextList = cipherTextinput()\n",
    "\n",
    "det = np.round(np.linalg.det(key))\n",
    "\n",
    "gcd(det,26)\n",
    "\n",
    "if(cf!=1):\n",
    "    print(\"WRONG KEY !!\")\n",
    "    print(\"Key is not Coprime to 26\")\n",
    "    exit()\n",
    "\n",
    "invKey = np.linalg.inv(key)\n",
    "          \n",
    "adj = invKey*det*(x%26) #cf is the modular inverse of det w.r.t 26\n",
    "          \n",
    "adj = np.mod(adj.astype(int),26)\n",
    "          \n",
    "cipherTextMatrix = np.reshape(cipherTextList,(-1,keySize))\n",
    "    \n",
    "plainTextList=decryption(adj,cipherTextMatrix)\n",
    "\n",
    "# print(plainTextList)\n",
    "\n",
    "\n",
    "s = \"\".join(plainTextList)\n",
    "print(s)\n",
    "\n"
   ]
  },
  {
   "cell_type": "code",
   "execution_count": null,
   "metadata": {},
   "outputs": [],
   "source": []
  }
 ],
 "metadata": {
  "kernelspec": {
   "display_name": "Python 3",
   "language": "python",
   "name": "python3"
  },
  "language_info": {
   "codemirror_mode": {
    "name": "ipython",
    "version": 3
   },
   "file_extension": ".py",
   "mimetype": "text/x-python",
   "name": "python",
   "nbconvert_exporter": "python",
   "pygments_lexer": "ipython3",
   "version": "3.6.5"
  }
 },
 "nbformat": 4,
 "nbformat_minor": 2
}
