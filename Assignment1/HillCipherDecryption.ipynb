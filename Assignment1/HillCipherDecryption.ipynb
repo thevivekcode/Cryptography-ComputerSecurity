{
 "cells": [
  {
   "cell_type": "code",
   "execution_count": 13,
   "metadata": {},
   "outputs": [],
   "source": [
    "import math\n",
    "import sys\n",
    "import numpy as np"
   ]
  },
  {
   "cell_type": "code",
   "execution_count": 14,
   "metadata": {},
   "outputs": [],
   "source": [
    "#for char to int where a=0...z=25\n",
    "def charToInt(s):\n",
    "    value=ord(s)-ord('a')\n",
    "    return value\n",
    "\n",
    "#for int to char where 0=a...25=z\n",
    "def intTochar(s):\n",
    "    return chr(s%26 +ord('a'))"
   ]
  },
  {
   "cell_type": "code",
   "execution_count": 15,
   "metadata": {},
   "outputs": [],
   "source": [
    "def keyInput():\n",
    "    with open(\"./InputFiles/key.txt\",\"r\") as keyFile:\n",
    "        keyString = keyFile.read().replace(\"\\n\",\" \").split()\n",
    "        keyList = list(map(int,keyString))\n",
    "        keyLen = int(math.sqrt(len(keyList)))\n",
    "        key =  np.reshape((np.array(keyList[:(keyLen**2)])),(keyLen,keyLen))\n",
    "        return key,keyLen"
   ]
  },
  {
   "cell_type": "code",
   "execution_count": 16,
   "metadata": {},
   "outputs": [],
   "source": [
    "def cipherTextinput():\n",
    "    with open(\"./InputFiles/cipherText.txt\",\"r\") as chipherTextFile:\n",
    "        cipherText = chipherTextFile.read().replace(\"\\n\",\"\").replace(\" \",\"\")\n",
    "        return list(map(charToInt,list(cipherText)))\n",
    "#         return list(plainText)"
   ]
  },
  {
   "cell_type": "code",
   "execution_count": 17,
   "metadata": {},
   "outputs": [],
   "source": [
    "##takes input key and cpherText in\" int np.array\" format\n",
    "def decryption(K,C):\n",
    "    PT=[np.dot(K,CT) for CT in C]\n",
    "    return list(map(intTochar,list(np.reshape(PT,(1,-1)).flat)))"
   ]
  },
  {
   "cell_type": "code",
   "execution_count": 18,
   "metadata": {},
   "outputs": [],
   "source": [
    "# Ax+My = 1 = gcd(A,M) = gcd(M,A%M)\n",
    "x=1\n",
    "y=0\n",
    "cf=0  #highest commmon factor\n",
    "def gcd(A,M):\n",
    "    global x\n",
    "    global y\n",
    "    global cf\n",
    "    if M==0:\n",
    "        x=1\n",
    "        y=0\n",
    "        cf=A\n",
    "    else:\n",
    "        gcd(M,A%M)\n",
    "        temp=x\n",
    "        x=y\n",
    "        y=temp-(A//M)*y\n",
    "#         print(x,y,cf)"
   ]
  },
  {
   "cell_type": "code",
   "execution_count": 19,
   "metadata": {},
   "outputs": [
    {
     "name": "stdout",
     "output_type": "stream",
     "text": [
      "[[ 6 23]\n",
      " [17 22]]\n",
      "speakingofdreamsinafigurativesensethenslowlytalkingaboutitsimpactintheliteralsensethewriterkeepsstressingononeveryimportantpointthatdreamshaveanimportantroletoplayinamericanpoliticsafterallaliberalsocietyisformedonthebasisofonesimaginationtheseimaginationsarearesultofonesfreethoughtswhichcanberelatedtodreamsasdreamingprovidesapictureoftherealworlduncoveringthingswhichotherwisemightnothavebeenpondereduponduetonarrowedandlimitedfreedomofimaginingitmayseemrecklesstoconsiderthepossibilityofturningtodreamstoworkthroughthepoliticalconditionstodaybutignoringthemaltogethermightevenbemorerecklesssaystheauthorx\n"
     ]
    }
   ],
   "source": [
    "(key,keySize) = keyInput()\n",
    "cipherTextList = cipherTextinput()\n",
    "\n",
    "det = np.round(np.linalg.det(key))\n",
    "\n",
    "gcd(det,26)\n",
    "\n",
    "if(cf!=1):\n",
    "    print(\"WRONG KEY !!\")\n",
    "    print(\"Key is not Coprime to 26\")\n",
    "    exit()\n",
    "\n",
    "invKey = np.linalg.inv(key)\n",
    "          \n",
    "adj = np.round(invKey*det)*(x%26) #cf is the modular inverse of det w.r.t 26\n",
    "          \n",
    "adj = np.mod(adj.astype(int),26)\n",
    "          \n",
    "cipherTextMatrix = np.reshape(cipherTextList,(-1,keySize))\n",
    "\n",
    "print(adj)\n",
    "\n",
    "plainTextList=decryption(adj,cipherTextMatrix)\n",
    "\n",
    "# print(plainTextList)\n",
    "\n",
    "\n",
    "s = \"\".join(plainTextList)\n",
    "print(s)\n",
    "\n"
   ]
  },
  {
   "cell_type": "code",
   "execution_count": null,
   "metadata": {},
   "outputs": [],
   "source": []
  },
  {
   "cell_type": "code",
   "execution_count": null,
   "metadata": {},
   "outputs": [],
   "source": []
  }
 ],
 "metadata": {
  "kernelspec": {
   "display_name": "Python 3",
   "language": "python",
   "name": "python3"
  },
  "language_info": {
   "codemirror_mode": {
    "name": "ipython",
    "version": 3
   },
   "file_extension": ".py",
   "mimetype": "text/x-python",
   "name": "python",
   "nbconvert_exporter": "python",
   "pygments_lexer": "ipython3",
   "version": "3.6.5"
  }
 },
 "nbformat": 4,
 "nbformat_minor": 2
}
